{
 "cells": [
  {
   "cell_type": "markdown",
   "id": "b576cf2b-d5e1-4081-ab6f-3bc370347cfb",
   "metadata": {},
   "source": [
    "# Exploring pyarrow and SQlite"
   ]
  },
  {
   "cell_type": "code",
   "execution_count": 1,
   "id": "28c89058-ea52-4591-aebb-d995b5bc6811",
   "metadata": {},
   "outputs": [],
   "source": [
    "import pyarrow as pa\n",
    "\n",
    "import utils"
   ]
  },
  {
   "cell_type": "code",
   "execution_count": 2,
   "id": "500d5dea-2727-4218-a8bc-26153a2689b2",
   "metadata": {},
   "outputs": [],
   "source": [
    "ARROW_CONSECUTIVE_DATABASE_FILENAME = \"databases/arrow_consecutive.sqlite\"\n",
    "ARROW_CONCATENATED_DATABASE_FILENAME = \"databases/arrow_concatenated.sqlite\"\n",
    "SQLITE_DATABASE_FILENAME = \"databases/direct_sqlite.sqlite\""
   ]
  },
  {
   "cell_type": "code",
   "execution_count": 3,
   "id": "eb8c874f-ea5c-4cb2-9160-b4676b26fa27",
   "metadata": {},
   "outputs": [],
   "source": [
    "schema = pa.schema(\n",
    "    [\n",
    "        pa.field(name=\"name\", type=pa.string()), # argument names optional\n",
    "        (\"age\", pa.int8())                       # implicit conversion to pa.field\n",
    "\n",
    "        # N.B. bool_ works in schema, but fails with the sqlite driver with:\n",
    "        # NotSupportedError: ADBC_STATUS_NOT_IMPLEMENTED (2): Column 2 has unsupported type bool\n",
    "    ]\n",
    ")"
   ]
  },
  {
   "cell_type": "code",
   "execution_count": 4,
   "id": "5e8d7097-dfaf-4621-bcd8-9fc6a741e338",
   "metadata": {},
   "outputs": [],
   "source": [
    "data_1 = pa.table(\n",
    "    [\n",
    "        [\"Alice\", \"Bob\", \"Carol\"],\n",
    "        [42, 46, 11],\n",
    "    ],\n",
    "    schema=schema,\n",
    ")\n",
    "\n",
    "data_2 = pa.table(\n",
    "    [\n",
    "        [\"Dave\", \"Erin\"],\n",
    "        [73, 49],\n",
    "    ],\n",
    "    schema=schema,\n",
    ")"
   ]
  },
  {
   "cell_type": "markdown",
   "id": "0d1f0013-0e5d-4cc5-a5c5-21ee3ef78676",
   "metadata": {},
   "source": [
    "## Create and write pyarrow table to SQlite, append more data"
   ]
  },
  {
   "cell_type": "code",
   "execution_count": 5,
   "id": "e9d79189-4b6c-4101-8df9-54a4600b4064",
   "metadata": {},
   "outputs": [
    {
     "name": "stdout",
     "output_type": "stream",
     "text": [
      "3 rows created, 2 rows appended\n"
     ]
    }
   ],
   "source": [
    "rows_created = utils.write_data_to_db(f\"file:{ARROW_CONSECUTIVE_DATABASE_FILENAME}\", \"people\", data_1, mode=\"create\")\n",
    "rows_appended = utils.write_data_to_db(f\"file:{ARROW_CONSECUTIVE_DATABASE_FILENAME}\", \"people\", data_2, mode=\"append\")\n",
    "\n",
    "print(f\"{rows_created} rows created, {rows_appended} rows appended\")"
   ]
  },
  {
   "cell_type": "markdown",
   "id": "8cde65bf-f433-46ca-a27f-1f284f568797",
   "metadata": {},
   "source": [
    "## \"Concatenate\" two pyarrow tables into a new one, write to SQlite\n",
    "This will create a new view without overhead. Writing this concatenated view to SQlite will produce the same file as the above commands."
   ]
  },
  {
   "cell_type": "code",
   "execution_count": 6,
   "id": "71274fe5-57fc-43c6-bb72-9a934e857d81",
   "metadata": {},
   "outputs": [
    {
     "name": "stdout",
     "output_type": "stream",
     "text": [
      "5 rows created\n"
     ]
    }
   ],
   "source": [
    "concatenated_data = pa.concat_tables([data_1, data_2])\n",
    "concatenated_rows_created = utils.write_data_to_db(f\"file:{ARROW_CONCATENATED_DATABASE_FILENAME}\", \"people\", concatenated_data, \"create\")\n",
    "\n",
    "print(f\"{concatenated_rows_created} rows created\")"
   ]
  },
  {
   "cell_type": "markdown",
   "id": "7b7ba054-d42b-4f69-a29a-bcfca4232ceb",
   "metadata": {},
   "source": [
    "## Create the same type of database directly in SQlite"
   ]
  },
  {
   "cell_type": "code",
   "execution_count": 7,
   "id": "c9d2c334-3551-4aa1-b78c-a146b01c9ca5",
   "metadata": {},
   "outputs": [],
   "source": [
    "sqlite_command = \"DROP TABLE IF EXISTS people;\" +\\\n",
    "\"CREATE TABLE people (name, age);\" + \\\n",
    "\"INSERT INTO people (name, age) VALUES ('Alice', 42);\" + \\\n",
    "\"INSERT INTO people (name, age) VALUES ('Bob', 46);\" + \\\n",
    "\"INSERT INTO people (name, age) VALUES ('Carol', 11);\" + \\\n",
    "\"INSERT INTO people (name, age) VALUES ('Dave', 73);\" + \\\n",
    "\"INSERT INTO people (name, age) VALUES ('Erin', 49);\"\n",
    "\n",
    "!sqlite3 \"{SQLITE_DATABASE_FILENAME}\" \"{sqlite_command}\" \".exit\""
   ]
  },
  {
   "cell_type": "markdown",
   "id": "99c22ff0-c5f0-4c5e-b625-47d2a81b9cd6",
   "metadata": {},
   "source": [
    "## Comparing all SQlite files\n",
    "The databases are not binary identical."
   ]
  },
  {
   "cell_type": "code",
   "execution_count": 8,
   "id": "8b1e9de7-4f3c-4990-a315-aeb30d1bf713",
   "metadata": {},
   "outputs": [
    {
     "name": "stdout",
     "output_type": "stream",
     "text": [
      "Binary files databases/arrow_concatenated.sqlite and databases/arrow_consecutive.sqlite differ\n",
      "Binary files databases/arrow_concatenated.sqlite and databases/direct_sqlite.sqlite differ\n"
     ]
    }
   ],
   "source": [
    "!diff databases/arrow_concatenated.sqlite databases/arrow_consecutive.sqlite\n",
    "!diff databases/arrow_concatenated.sqlite databases/direct_sqlite.sqlite"
   ]
  },
  {
   "cell_type": "markdown",
   "id": "86723e4a-611b-44f6-b47c-3ebe274a9df6",
   "metadata": {},
   "source": [
    "Witness an empty return, meaning `sqldiff` sees them as identical:"
   ]
  },
  {
   "cell_type": "code",
   "execution_count": 9,
   "id": "dcf53e42-3573-4239-9d85-70aa49ce4f58",
   "metadata": {},
   "outputs": [],
   "source": [
    "!sqldiff databases/arrow_concatenated.sqlite databases/arrow_consecutive.sqlite\n",
    "!sqldiff databases/arrow_concatenated.sqlite databases/direct_sqlite.sqlite"
   ]
  },
  {
   "cell_type": "markdown",
   "id": "5889d85b-ba5e-455c-adfd-d0212acafeec",
   "metadata": {},
   "source": [
    "We can also compare if the contained records are identical via ADBC."
   ]
  },
  {
   "cell_type": "code",
   "execution_count": 10,
   "id": "ebe88a0e-9467-43f2-9bdb-89c559b00d2b",
   "metadata": {},
   "outputs": [
    {
     "data": {
      "text/plain": [
       "True"
      ]
     },
     "execution_count": 10,
     "metadata": {},
     "output_type": "execute_result"
    }
   ],
   "source": [
    "utils.database_equality(\"file:databases/arrow_concatenated.sqlite\", \"file:databases/arrow_consecutive.sqlite\")"
   ]
  },
  {
   "cell_type": "code",
   "execution_count": 11,
   "id": "e242a0b3-e95e-4940-bf98-90819f85c6f6",
   "metadata": {},
   "outputs": [
    {
     "data": {
      "text/plain": [
       "True"
      ]
     },
     "execution_count": 11,
     "metadata": {},
     "output_type": "execute_result"
    }
   ],
   "source": [
    "utils.database_equality(\"file:databases/arrow_concatenated.sqlite\", \"file:databases/direct_sqlite.sqlite\")"
   ]
  },
  {
   "cell_type": "markdown",
   "id": "36cc62e3-5241-407c-abaf-e6de1783cbe8",
   "metadata": {},
   "source": [
    "The databases are not a carbon copy of each other, but identical for practical purposes."
   ]
  }
 ],
 "metadata": {
  "kernelspec": {
   "display_name": "Python 3 (ipykernel)",
   "language": "python",
   "name": "python3"
  },
  "language_info": {
   "codemirror_mode": {
    "name": "ipython",
    "version": 3
   },
   "file_extension": ".py",
   "mimetype": "text/x-python",
   "name": "python",
   "nbconvert_exporter": "python",
   "pygments_lexer": "ipython3",
   "version": "3.11.4"
  }
 },
 "nbformat": 4,
 "nbformat_minor": 5
}
