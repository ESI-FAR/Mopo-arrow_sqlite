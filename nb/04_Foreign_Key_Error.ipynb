{
 "cells": [
  {
   "cell_type": "code",
   "execution_count": 5,
   "id": "83062a72-90a8-422c-a422-6afabf5fc3e2",
   "metadata": {},
   "outputs": [],
   "source": [
    "import adbc_driver_sqlite.dbapi"
   ]
  },
  {
   "cell_type": "code",
   "execution_count": 6,
   "id": "b90f2897-f0a5-4a53-8cb4-f6d080649782",
   "metadata": {},
   "outputs": [],
   "source": [
    "FOREIGN_TEST_DATABASE_FILENAME = \"databases/foreign_test.sqlite\""
   ]
  },
  {
   "cell_type": "code",
   "execution_count": 7,
   "id": "5fc42ac9-b4fc-4f4b-a602-33af00129fb2",
   "metadata": {},
   "outputs": [],
   "source": [
    "with open(\"./sql_scripts/foreign_test.sql\") as f:\n",
    "    sqlite_command = f.read()\n",
    "\n",
    "!sqlite3 \"{FOREIGN_TEST_DATABASE_FILENAME}\" \"{sqlite_command}\" \".exit\""
   ]
  },
  {
   "cell_type": "code",
   "execution_count": 8,
   "id": "c712dfbc-8088-487c-97ac-fd360809f890",
   "metadata": {},
   "outputs": [
    {
     "ename": "InternalError",
     "evalue": "ADBC_STATUS_INTERNAL (9): ArrowArrayFinishElement(table_constraints_items) failed: (22) Invalid argument\nDetail: /adbc/c/driver/sqlite/sqlite.c:546",
     "output_type": "error",
     "traceback": [
      "\u001b[0;31m---------------------------------------------------------------------------\u001b[0m",
      "\u001b[0;31mInternalError\u001b[0m                             Traceback (most recent call last)",
      "Cell \u001b[0;32mIn[8], line 2\u001b[0m\n\u001b[1;32m      1\u001b[0m \u001b[38;5;28;01mwith\u001b[39;00m adbc_driver_sqlite\u001b[38;5;241m.\u001b[39mdbapi\u001b[38;5;241m.\u001b[39mconnect(\u001b[38;5;124m\"\u001b[39m\u001b[38;5;124mfile:\u001b[39m\u001b[38;5;124m\"\u001b[39m\u001b[38;5;241m+\u001b[39mFOREIGN_TEST_DATABASE_FILENAME) \u001b[38;5;28;01mas\u001b[39;00m connection:\n\u001b[0;32m----> 2\u001b[0m     objects_2: pa\u001b[38;5;241m.\u001b[39mlib\u001b[38;5;241m.\u001b[39mRecordBatchReader \u001b[38;5;241m=\u001b[39m \u001b[43mconnection\u001b[49m\u001b[38;5;241;43m.\u001b[39;49m\u001b[43madbc_get_objects\u001b[49m\u001b[43m(\u001b[49m\u001b[43m)\u001b[49m\n",
      "File \u001b[0;32m~/.local/share/virtualenvs/arrow-kwTLMe85/lib/python3.11/site-packages/adbc_driver_manager/dbapi.py:420\u001b[0m, in \u001b[0;36mConnection.adbc_get_objects\u001b[0;34m(self, depth, catalog_filter, db_schema_filter, table_name_filter, table_types_filter, column_name_filter)\u001b[0m\n\u001b[1;32m    418\u001b[0m \u001b[38;5;28;01melse\u001b[39;00m:\n\u001b[1;32m    419\u001b[0m     \u001b[38;5;28;01mraise\u001b[39;00m \u001b[38;5;167;01mValueError\u001b[39;00m(\u001b[38;5;124mf\u001b[39m\u001b[38;5;124m\"\u001b[39m\u001b[38;5;124mInvalid value for \u001b[39m\u001b[38;5;124m'\u001b[39m\u001b[38;5;124mdepth\u001b[39m\u001b[38;5;124m'\u001b[39m\u001b[38;5;124m: \u001b[39m\u001b[38;5;132;01m{\u001b[39;00mdepth\u001b[38;5;132;01m}\u001b[39;00m\u001b[38;5;124m\"\u001b[39m)\n\u001b[0;32m--> 420\u001b[0m handle \u001b[38;5;241m=\u001b[39m \u001b[38;5;28;43mself\u001b[39;49m\u001b[38;5;241;43m.\u001b[39;49m\u001b[43m_conn\u001b[49m\u001b[38;5;241;43m.\u001b[39;49m\u001b[43mget_objects\u001b[49m\u001b[43m(\u001b[49m\n\u001b[1;32m    421\u001b[0m \u001b[43m    \u001b[49m\u001b[43mc_depth\u001b[49m\u001b[43m,\u001b[49m\n\u001b[1;32m    422\u001b[0m \u001b[43m    \u001b[49m\u001b[43mcatalog\u001b[49m\u001b[38;5;241;43m=\u001b[39;49m\u001b[43mcatalog_filter\u001b[49m\u001b[43m,\u001b[49m\n\u001b[1;32m    423\u001b[0m \u001b[43m    \u001b[49m\u001b[43mdb_schema\u001b[49m\u001b[38;5;241;43m=\u001b[39;49m\u001b[43mdb_schema_filter\u001b[49m\u001b[43m,\u001b[49m\n\u001b[1;32m    424\u001b[0m \u001b[43m    \u001b[49m\u001b[43mtable_name\u001b[49m\u001b[38;5;241;43m=\u001b[39;49m\u001b[43mtable_name_filter\u001b[49m\u001b[43m,\u001b[49m\n\u001b[1;32m    425\u001b[0m \u001b[43m    \u001b[49m\u001b[43mtable_types\u001b[49m\u001b[38;5;241;43m=\u001b[39;49m\u001b[43mtable_types_filter\u001b[49m\u001b[43m,\u001b[49m\n\u001b[1;32m    426\u001b[0m \u001b[43m    \u001b[49m\u001b[43mcolumn_name\u001b[49m\u001b[38;5;241;43m=\u001b[39;49m\u001b[43mcolumn_name_filter\u001b[49m\u001b[43m,\u001b[49m\n\u001b[1;32m    427\u001b[0m \u001b[43m\u001b[49m\u001b[43m)\u001b[49m\n\u001b[1;32m    428\u001b[0m \u001b[38;5;28;01mreturn\u001b[39;00m pyarrow\u001b[38;5;241m.\u001b[39mRecordBatchReader\u001b[38;5;241m.\u001b[39m_import_from_c(handle\u001b[38;5;241m.\u001b[39maddress)\n",
      "File \u001b[0;32m~/.local/share/virtualenvs/arrow-kwTLMe85/lib/python3.11/site-packages/adbc_driver_manager/_lib.pyx:732\u001b[0m, in \u001b[0;36madbc_driver_manager._lib.AdbcConnection.get_objects\u001b[0;34m()\u001b[0m\n",
      "File \u001b[0;32m~/.local/share/virtualenvs/arrow-kwTLMe85/lib/python3.11/site-packages/adbc_driver_manager/_lib.pyx:385\u001b[0m, in \u001b[0;36madbc_driver_manager._lib.check_error\u001b[0;34m()\u001b[0m\n",
      "\u001b[0;31mInternalError\u001b[0m: ADBC_STATUS_INTERNAL (9): ArrowArrayFinishElement(table_constraints_items) failed: (22) Invalid argument\nDetail: /adbc/c/driver/sqlite/sqlite.c:546"
     ]
    }
   ],
   "source": [
    "with adbc_driver_sqlite.dbapi.connect(\"file:\"+FOREIGN_TEST_DATABASE_FILENAME) as connection:\n",
    "    objects_2: pa.lib.RecordBatchReader = connection.adbc_get_objects()"
   ]
  },
  {
   "cell_type": "code",
   "execution_count": null,
   "id": "e2e713be-8e86-496f-a44c-180cf003bb74",
   "metadata": {},
   "outputs": [],
   "source": []
  }
 ],
 "metadata": {
  "kernelspec": {
   "display_name": "Python 3 (ipykernel)",
   "language": "python",
   "name": "python3"
  },
  "language_info": {
   "codemirror_mode": {
    "name": "ipython",
    "version": 3
   },
   "file_extension": ".py",
   "mimetype": "text/x-python",
   "name": "python",
   "nbconvert_exporter": "python",
   "pygments_lexer": "ipython3",
   "version": "3.11.4"
  }
 },
 "nbformat": 4,
 "nbformat_minor": 5
}
