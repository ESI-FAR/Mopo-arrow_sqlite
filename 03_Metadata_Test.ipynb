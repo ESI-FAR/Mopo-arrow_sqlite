{
 "cells": [
  {
   "cell_type": "markdown",
   "id": "c4dede47-e0c5-4675-8f7a-722cdff8fd3f",
   "metadata": {},
   "source": [
    "# How does pyarrow handle metadata?"
   ]
  },
  {
   "cell_type": "code",
   "execution_count": 1,
   "id": "a748a1b2-15ad-4906-8b79-fa136ba047b7",
   "metadata": {},
   "outputs": [],
   "source": [
    "import adbc_driver_manager.dbapi\n",
    "import adbc_driver_sqlite.dbapi\n",
    "import pyarrow as pa\n",
    "\n",
    "from typing import Any, Callable"
   ]
  },
  {
   "cell_type": "code",
   "execution_count": 2,
   "id": "33fcd294-a36c-4804-8e3b-be03f7d6c30f",
   "metadata": {},
   "outputs": [],
   "source": [
    "SAMPLE_SQLITE_DATABASE_FILENAME = \"databases/sample.sqlite\"\n",
    "RECREATED_DATABASE_FILENAME = \"databases/recreated.sqlite\""
   ]
  },
  {
   "cell_type": "code",
   "execution_count": 3,
   "id": "0fba886e-c3a4-4764-a9e0-05ea60a4401d",
   "metadata": {},
   "outputs": [],
   "source": [
    "def execute_on_sqlite(database_uri: str, my_function: Callable, *args: Any, **kwargs: Any) -> Any:\n",
    "    \"\"\"Execute a function `my_function` on an SQlite database at `database_uri`.\n",
    "    \n",
    "    Returns:\n",
    "        Result of `my_function`.\n",
    "    \"\"\"\n",
    "    with adbc_driver_sqlite.dbapi.connect(database_uri) as connection:\n",
    "        with connection.cursor() as cursor:\n",
    "            result = my_function(cursor, *args, **kwargs)\n",
    "        connection.commit()\n",
    "        return result"
   ]
  },
  {
   "cell_type": "code",
   "execution_count": 4,
   "id": "5c06512b-870b-4718-ba69-02f7edca7e23",
   "metadata": {},
   "outputs": [],
   "source": [
    "def insert_data_into_table(cursor: adbc_driver_manager.dbapi.Cursor,\n",
    "                           table_name: str,\n",
    "                           data: pa.lib.Table,\n",
    "                           mode: str) -> int:\n",
    "    \"\"\"Create a table and fill it with data or append data to an existing one.\n",
    "    \n",
    "    Args:\n",
    "        cursor: database cursor\n",
    "        table_name: name of the table to create or append to\n",
    "        data: pa table\n",
    "        mode: \"create\" a new table, or \"append\" to an existing one\n",
    "\n",
    "    Returns:\n",
    "        Number of rows inserted\n",
    "    \"\"\"\n",
    "\n",
    "    if mode == \"create\":\n",
    "        cursor.execute(f\"DROP TABLE IF EXISTS {table_name}\")\n",
    "\n",
    "    result = cursor.adbc_ingest(table_name, data, mode=mode)\n",
    "    return result"
   ]
  },
  {
   "cell_type": "markdown",
   "id": "f49eb86e-a8b2-4efd-8b9f-ccb520929860",
   "metadata": {},
   "source": [
    "## Population of the Spine database with SQlite\n",
    "This is a practical example and part of the \"Load SpineOpt Template\" operation."
   ]
  },
  {
   "cell_type": "code",
   "execution_count": 5,
   "id": "65249e39-0ee1-4509-8386-7b071d01d410",
   "metadata": {},
   "outputs": [],
   "source": [
    "sqlite_command = \"DROP TABLE IF EXISTS alembic_version;\" + \\\n",
    "\"CREATE TABLE alembic_version (\" + \\\n",
    "\"\tversion_num VARCHAR(32) NOT NULL,\" + \\\n",
    "\"\tCONSTRAINT alembic_version_pkc PRIMARY KEY (version_num)\" + \\\n",
    "\"); \" + \\\n",
    "\"INSERT INTO alembic_version(rowid,version_num) VALUES(1,'989fccf80441');\"\n",
    "\n",
    "\n",
    "!sqlite3 \"{SAMPLE_SQLITE_DATABASE_FILENAME}\" \"{sqlite_command}\" \".exit\""
   ]
  },
  {
   "cell_type": "markdown",
   "id": "d840b00a-b8cd-4419-9217-05f785b9ca4d",
   "metadata": {},
   "source": [
    "## Re-creation attempt with pyarrow"
   ]
  },
  {
   "cell_type": "code",
   "execution_count": 6,
   "id": "1687b9b2-e55b-44b0-a8d3-16720ca313df",
   "metadata": {},
   "outputs": [],
   "source": [
    "schema = pa.schema(\n",
    "    [\n",
    "        pa.field(name=\"version_num\",\n",
    "                 type=pa.string(),\n",
    "                 nullable=False)\n",
    "    ]\n",
    ")"
   ]
  },
  {
   "cell_type": "code",
   "execution_count": 7,
   "id": "047ba44b-6a4c-4cfb-9d6c-de050481b3e1",
   "metadata": {},
   "outputs": [],
   "source": [
    "data = pa.table(\n",
    "    [\n",
    "        [\"989fccf80441\"],\n",
    "    ],\n",
    "    schema=schema,\n",
    ")"
   ]
  },
  {
   "cell_type": "code",
   "execution_count": 8,
   "id": "bdee37a6-fd2a-4ad6-bbbc-974580ceffdc",
   "metadata": {},
   "outputs": [
    {
     "name": "stdout",
     "output_type": "stream",
     "text": [
      "1 row(s) inserted\n"
     ]
    }
   ],
   "source": [
    "rows_inserted = execute_on_sqlite(f\"file:{RECREATED_DATABASE_FILENAME}\", insert_data_into_table, \"alembic_version\", data, mode=\"create\")\n",
    "print(f\"{rows_inserted} row(s) inserted\")"
   ]
  },
  {
   "cell_type": "markdown",
   "id": "ecc1003b-4bee-4ab2-88ab-5ebda7ef52a8",
   "metadata": {},
   "source": [
    "## Comparison (pure arrow)\n",
    "\n",
    "Not surprisingly, an inspection with `sqlitebrowser` shows that the schema differs. The field type is not transferred properly, and neither is `nullable`. There seems to be no way to create constraints, set primary keys or set SQlite-specific data types.\n",
    "\n",
    "https://arrow.apache.org/adbc/0.5.1/driver/flight_sql.html#metadata"
   ]
  },
  {
   "cell_type": "markdown",
   "id": "dc5444cf-1c7d-4f46-999b-44b99406dfb9",
   "metadata": {},
   "source": [
    "## Create database first, then populate with pyarrow"
   ]
  },
  {
   "cell_type": "code",
   "execution_count": 9,
   "id": "c6085752-b94c-43f8-898e-efba1b12beb9",
   "metadata": {},
   "outputs": [],
   "source": [
    "RECREATED_SQLITE_THEN_ARROW_DATABASE_FILENAME = \"databases/recreated_sqlite_then_arrow.sqlite\""
   ]
  },
  {
   "cell_type": "code",
   "execution_count": 10,
   "id": "dae12fc6-4e00-4339-910a-9bbba2ae517b",
   "metadata": {},
   "outputs": [],
   "source": [
    "sqlite_command = \"DROP TABLE IF EXISTS alembic_version;\" + \\\n",
    "\"CREATE TABLE alembic_version (\" + \\\n",
    "\"\tversion_num VARCHAR(32) NOT NULL,\" + \\\n",
    "\"\tCONSTRAINT alembic_version_pkc PRIMARY KEY (version_num)\" + \\\n",
    "\"); \"\n",
    "\n",
    "!sqlite3 \"{RECREATED_SQLITE_THEN_ARROW_DATABASE_FILENAME}\" \"{sqlite_command}\" \".exit\""
   ]
  },
  {
   "cell_type": "code",
   "execution_count": 11,
   "id": "fcdd5f87-f90c-4293-a4da-f1715861c94c",
   "metadata": {},
   "outputs": [
    {
     "name": "stdout",
     "output_type": "stream",
     "text": [
      "1 row(s) inserted\n"
     ]
    }
   ],
   "source": [
    "rows_inserted = execute_on_sqlite(f\"file:{RECREATED_SQLITE_THEN_ARROW_DATABASE_FILENAME}\", insert_data_into_table, \"alembic_version\", data, mode=\"append\")\n",
    "print(f\"{rows_inserted} row(s) inserted\")"
   ]
  },
  {
   "cell_type": "markdown",
   "id": "acc834ea-3cac-4a85-97db-7fd04412c1cf",
   "metadata": {},
   "source": [
    "## Comparison (SQlite, then arrow)\n",
    "\n",
    "Creating tables with SQlite, then populating it with arrow data via adbc keeps the schema intact."
   ]
  },
  {
   "cell_type": "code",
   "execution_count": 12,
   "id": "25016a71-a755-4fe0-8050-c5ddabde8960",
   "metadata": {},
   "outputs": [],
   "source": [
    "!sqldiff databases/recreated_sqlite_then_arrow.sqlite databases/sample.sqlite "
   ]
  }
 ],
 "metadata": {
  "kernelspec": {
   "display_name": "Python 3 (ipykernel)",
   "language": "python",
   "name": "python3"
  },
  "language_info": {
   "codemirror_mode": {
    "name": "ipython",
    "version": 3
   },
   "file_extension": ".py",
   "mimetype": "text/x-python",
   "name": "python",
   "nbconvert_exporter": "python",
   "pygments_lexer": "ipython3",
   "version": "3.11.4"
  }
 },
 "nbformat": 4,
 "nbformat_minor": 5
}
