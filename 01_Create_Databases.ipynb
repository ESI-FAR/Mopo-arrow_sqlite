{
 "cells": [
  {
   "cell_type": "markdown",
   "id": "b576cf2b-d5e1-4081-ab6f-3bc370347cfb",
   "metadata": {},
   "source": [
    "# Exploring pyarrow and SQlite"
   ]
  },
  {
   "cell_type": "code",
   "execution_count": 1,
   "id": "28c89058-ea52-4591-aebb-d995b5bc6811",
   "metadata": {},
   "outputs": [],
   "source": [
    "import adbc_driver_manager.dbapi\n",
    "import adbc_driver_sqlite.dbapi\n",
    "import pyarrow as pa\n",
    "\n",
    "from typing import Any, Callable"
   ]
  },
  {
   "cell_type": "code",
   "execution_count": 2,
   "id": "500d5dea-2727-4218-a8bc-26153a2689b2",
   "metadata": {},
   "outputs": [],
   "source": [
    "ARROW_CONSECUTIVE_DATABASE_FILENAME = \"databases/arrow_consecutive.sqlite\"\n",
    "ARROW_CONCATENATED_DATABASE_FILENAME = \"databases/arrow_concatenated.sqlite\"\n",
    "SQLITE_DATABASE_FILENAME = \"databases/direct_sqlite.sqlite\""
   ]
  },
  {
   "cell_type": "code",
   "execution_count": 3,
   "id": "81b109ec-7904-426a-a3eb-c5356beab39a",
   "metadata": {},
   "outputs": [],
   "source": [
    "def execute_on_sqlite(database_uri: str, my_function: Callable, *args: Any, **kwargs: Any) -> Any:\n",
    "    \"\"\"Execute a function `my_function` on an SQlite database at `database_uri`.\n",
    "    \n",
    "    Returns:\n",
    "        Result of `my_function`.\n",
    "    \"\"\"\n",
    "    with adbc_driver_sqlite.dbapi.connect(database_uri) as connection:\n",
    "        with connection.cursor() as cursor:\n",
    "            result = my_function(cursor, *args, **kwargs)\n",
    "        connection.commit()\n",
    "        return result"
   ]
  },
  {
   "cell_type": "code",
   "execution_count": 4,
   "id": "8f564c03-0fd1-4008-b01a-be93c41706b0",
   "metadata": {},
   "outputs": [],
   "source": [
    "def insert_data_into_table(cursor: adbc_driver_manager.dbapi.Cursor,\n",
    "                           table_name: str,\n",
    "                           data: pa.lib.Table,\n",
    "                           mode: str) -> int:\n",
    "    \"\"\"Create a table and fill it with data or append data to an existing one.\n",
    "    \n",
    "    Args:\n",
    "        cursor: database cursor\n",
    "        table_name: name of the table to create or append to\n",
    "        data: pa table\n",
    "        mode: \"create\" a new table, or \"append\" to an existing one\n",
    "\n",
    "    Returns:\n",
    "        Number of rows inserted\n",
    "    \"\"\"\n",
    "\n",
    "    if mode == \"create\":\n",
    "        cursor.execute(f\"DROP TABLE IF EXISTS {table_name}\")\n",
    "\n",
    "    result = cursor.adbc_ingest(table_name, data, mode=mode)\n",
    "    return result"
   ]
  },
  {
   "cell_type": "code",
   "execution_count": 5,
   "id": "eb8c874f-ea5c-4cb2-9160-b4676b26fa27",
   "metadata": {},
   "outputs": [],
   "source": [
    "schema = pa.schema(\n",
    "    [\n",
    "        pa.field(name=\"name\", type=pa.string()), # argument names optional\n",
    "        (\"age\", pa.int8())                       # implicit conversion to pa.field\n",
    "\n",
    "        # N.B. bool_ works in schema, but fails with the sqlite driver with:\n",
    "        # NotSupportedError: ADBC_STATUS_NOT_IMPLEMENTED (2): Column 2 has unsupported type bool\n",
    "    ]\n",
    ")"
   ]
  },
  {
   "cell_type": "code",
   "execution_count": 6,
   "id": "5e8d7097-dfaf-4621-bcd8-9fc6a741e338",
   "metadata": {},
   "outputs": [],
   "source": [
    "data_1 = pa.table(\n",
    "    [\n",
    "        [\"Alice\", \"Bob\", \"Carol\"],\n",
    "        [42, 46, 11],\n",
    "    ],\n",
    "    schema=schema,\n",
    ")\n",
    "\n",
    "data_2 = pa.table(\n",
    "    [\n",
    "        [\"Dave\", \"Erin\"],\n",
    "        [73, 49],\n",
    "    ],\n",
    "    schema=schema,\n",
    ")"
   ]
  },
  {
   "cell_type": "markdown",
   "id": "0d1f0013-0e5d-4cc5-a5c5-21ee3ef78676",
   "metadata": {},
   "source": [
    "## Create and write pyarrow table to SQlite, append more data"
   ]
  },
  {
   "cell_type": "code",
   "execution_count": 7,
   "id": "e9d79189-4b6c-4101-8df9-54a4600b4064",
   "metadata": {},
   "outputs": [
    {
     "name": "stdout",
     "output_type": "stream",
     "text": [
      "3 rows created, 2 rows appended\n"
     ]
    }
   ],
   "source": [
    "rows_created = execute_on_sqlite(f\"file:{ARROW_CONSECUTIVE_DATABASE_FILENAME}\", insert_data_into_table, \"people\", data_1, mode=\"create\")\n",
    "rows_appended = execute_on_sqlite(f\"file:{ARROW_CONSECUTIVE_DATABASE_FILENAME}\", insert_data_into_table, \"people\", data_2, mode=\"append\")\n",
    "\n",
    "print(f\"{rows_created} rows created, {rows_appended} rows appended\")"
   ]
  },
  {
   "cell_type": "markdown",
   "id": "8cde65bf-f433-46ca-a27f-1f284f568797",
   "metadata": {},
   "source": [
    "## \"Concatenate\" two pyarrow tables into a new one, write to SQlite\n",
    "This will create a new view without overhead. Writing this concatenated view to SQlite will produce the same file as the above commands."
   ]
  },
  {
   "cell_type": "code",
   "execution_count": 8,
   "id": "71274fe5-57fc-43c6-bb72-9a934e857d81",
   "metadata": {},
   "outputs": [
    {
     "name": "stdout",
     "output_type": "stream",
     "text": [
      "5 rows created\n"
     ]
    }
   ],
   "source": [
    "concatenated_data = pa.concat_tables([data_1, data_2])\n",
    "concatenated_rows_created = execute_on_sqlite(f\"file:{ARROW_CONCATENATED_DATABASE_FILENAME}\", insert_data_into_table, \"people\", concatenated_data, mode=\"create\")\n",
    "\n",
    "print(f\"{concatenated_rows_created} rows created\")"
   ]
  },
  {
   "cell_type": "markdown",
   "id": "7b7ba054-d42b-4f69-a29a-bcfca4232ceb",
   "metadata": {},
   "source": [
    "## Create the same type of database directly in SQlite"
   ]
  },
  {
   "cell_type": "code",
   "execution_count": 9,
   "id": "c9d2c334-3551-4aa1-b78c-a146b01c9ca5",
   "metadata": {},
   "outputs": [],
   "source": [
    "sqlite_command = \"DROP TABLE IF EXISTS people;\" +\\\n",
    "\"CREATE TABLE people (name, age);\" + \\\n",
    "\"INSERT INTO people (name, age) VALUES ('Alice', 42);\" + \\\n",
    "\"INSERT INTO people (name, age) VALUES ('Bob', 46);\" + \\\n",
    "\"INSERT INTO people (name, age) VALUES ('Carol', 11);\" + \\\n",
    "\"INSERT INTO people (name, age) VALUES ('Dave', 73);\" + \\\n",
    "\"INSERT INTO people (name, age) VALUES ('Erin', 49);\"\n",
    "\n",
    "!sqlite3 \"{SQLITE_DATABASE_FILENAME}\" \"{sqlite_command}\" \".exit\""
   ]
  },
  {
   "cell_type": "markdown",
   "id": "99c22ff0-c5f0-4c5e-b625-47d2a81b9cd6",
   "metadata": {},
   "source": [
    "## Comparing all SQlite files\n",
    "Witness an empty return, meaning the databases are identical"
   ]
  },
  {
   "cell_type": "code",
   "execution_count": 10,
   "id": "dcf53e42-3573-4239-9d85-70aa49ce4f58",
   "metadata": {},
   "outputs": [],
   "source": [
    "!sqldiff databases/arrow_concatenated.sqlite databases/arrow_consecutive.sqlite\n",
    "!sqldiff databases/arrow_concatenated.sqlite databases/direct_sqlite.sqlite"
   ]
  }
 ],
 "metadata": {
  "kernelspec": {
   "display_name": "Python 3 (ipykernel)",
   "language": "python",
   "name": "python3"
  },
  "language_info": {
   "codemirror_mode": {
    "name": "ipython",
    "version": 3
   },
   "file_extension": ".py",
   "mimetype": "text/x-python",
   "name": "python",
   "nbconvert_exporter": "python",
   "pygments_lexer": "ipython3",
   "version": "3.11.4"
  }
 },
 "nbformat": 4,
 "nbformat_minor": 5
}
