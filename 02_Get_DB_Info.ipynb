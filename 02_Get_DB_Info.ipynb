{
 "cells": [
  {
   "cell_type": "markdown",
   "id": "412f247a-0ff7-4d39-b66b-051105630813",
   "metadata": {},
   "source": [
    "# Getting information about the database and connection"
   ]
  },
  {
   "cell_type": "code",
   "execution_count": 1,
   "id": "26e0aeea-2206-4e5a-9b63-fbde23c7318a",
   "metadata": {},
   "outputs": [],
   "source": [
    "import adbc_driver_sqlite.dbapi"
   ]
  },
  {
   "cell_type": "code",
   "execution_count": 2,
   "id": "8d50f68e-10bf-40d1-aaa3-60a19906d6b2",
   "metadata": {},
   "outputs": [],
   "source": [
    "DATABASE_URI = f\"file:databases/arrow_concatenated.sqlite\""
   ]
  },
  {
   "cell_type": "code",
   "execution_count": 3,
   "id": "dd2a495e-0e10-4855-acb9-f0a7138138c0",
   "metadata": {},
   "outputs": [
    {
     "data": {
      "text/plain": [
       "{'vendor_name': 'SQLite',\n",
       " 'vendor_version': '3.39.2',\n",
       " 'driver_name': 'ADBC SQLite Driver',\n",
       " 'driver_version': '(unknown)',\n",
       " 'driver_arrow_version': '0.2.0-SNAPSHOT'}"
      ]
     },
     "execution_count": 3,
     "metadata": {},
     "output_type": "execute_result"
    }
   ],
   "source": [
    "with adbc_driver_sqlite.dbapi.connect(DATABASE_URI) as connection:\n",
    "    info = connection.adbc_get_info()\n",
    "\n",
    "info"
   ]
  },
  {
   "cell_type": "code",
   "execution_count": 4,
   "id": "df8ef42d-e046-4dc6-8a45-80969767551b",
   "metadata": {},
   "outputs": [
    {
     "data": {
      "text/plain": [
       "name: string\n",
       "age: int64"
      ]
     },
     "execution_count": 4,
     "metadata": {},
     "output_type": "execute_result"
    }
   ],
   "source": [
    "with adbc_driver_sqlite.dbapi.connect(DATABASE_URI) as connection:\n",
    "    objects = connection.adbc_get_table_schema(\"people\")\n",
    "\n",
    "objects"
   ]
  },
  {
   "cell_type": "code",
   "execution_count": 5,
   "id": "31fe3496-abc0-48d7-b41d-5b568aff6e4d",
   "metadata": {},
   "outputs": [
    {
     "data": {
      "text/plain": [
       "{'catalog_name': ['main'],\n",
       " 'catalog_db_schemas': [[{'db_schema_name': None,\n",
       "    'db_schema_tables': [{'table_name': 'people',\n",
       "      'table_type': 'table',\n",
       "      'table_columns': [{'column_name': 'name',\n",
       "        'ordinal_position': 1,\n",
       "        'remarks': None,\n",
       "        'xdbc_data_type': None,\n",
       "        'xdbc_type_name': '',\n",
       "        'xdbc_column_size': None,\n",
       "        'xdbc_decimal_digits': None,\n",
       "        'xdbc_num_prec_radix': None,\n",
       "        'xdbc_nullable': 1,\n",
       "        'xdbc_column_def': None,\n",
       "        'xdbc_sql_data_type': None,\n",
       "        'xdbc_datetime_sub': None,\n",
       "        'xdbc_char_octet_length': None,\n",
       "        'xdbc_is_nullable': 'YES',\n",
       "        'xdbc_scope_catalog': None,\n",
       "        'xdbc_scope_schema': None,\n",
       "        'xdbc_scope_table': None,\n",
       "        'xdbc_is_autoincrement': None,\n",
       "        'xdbc_is_generatedcolumn': None},\n",
       "       {'column_name': 'age',\n",
       "        'ordinal_position': 2,\n",
       "        'remarks': None,\n",
       "        'xdbc_data_type': None,\n",
       "        'xdbc_type_name': '',\n",
       "        'xdbc_column_size': None,\n",
       "        'xdbc_decimal_digits': None,\n",
       "        'xdbc_num_prec_radix': None,\n",
       "        'xdbc_nullable': 1,\n",
       "        'xdbc_column_def': None,\n",
       "        'xdbc_sql_data_type': None,\n",
       "        'xdbc_datetime_sub': None,\n",
       "        'xdbc_char_octet_length': None,\n",
       "        'xdbc_is_nullable': 'YES',\n",
       "        'xdbc_scope_catalog': None,\n",
       "        'xdbc_scope_schema': None,\n",
       "        'xdbc_scope_table': None,\n",
       "        'xdbc_is_autoincrement': None,\n",
       "        'xdbc_is_generatedcolumn': None}],\n",
       "      'table_constraints': []}]}]]}"
      ]
     },
     "execution_count": 5,
     "metadata": {},
     "output_type": "execute_result"
    }
   ],
   "source": [
    "with adbc_driver_sqlite.dbapi.connect(DATABASE_URI) as connection:\n",
    "    objects = connection.adbc_get_objects()\n",
    "\n",
    "objects.read_all().to_pydict()"
   ]
  },
  {
   "cell_type": "code",
   "execution_count": 6,
   "id": "2806b886-c054-44aa-8f3e-96509606fcfc",
   "metadata": {},
   "outputs": [
    {
     "data": {
      "text/plain": [
       "pyarrow.Table\n",
       "catalog_name: string\n",
       "catalog_db_schemas: list<item: struct<db_schema_name: string, db_schema_tables: list<item: struct<table_name: string not null, table_type: string not null, table_columns: list<item: struct<column_name: string not null, ordinal_position: int32, remarks: string, xdbc_data_type: int16, xdbc_type_name: string, xdbc_column_size: int32, xdbc_decimal_digits: int16, xdbc_num_prec_radix: int16, xdbc_nullable: int16, xdbc_column_def: string, xdbc_sql_data_type: int16, xdbc_datetime_sub: int16, xdbc_char_octet_length: int32, xdbc_is_nullable: string, xdbc_scope_catalog: string, xdbc_scope_schema: string, xdbc_scope_table: string, xdbc_is_autoincrement: bool, xdbc_is_generatedcolumn: bool>>, table_constraints: list<item: struct<constraint_name: string, constraint_type: string not null, constraint_column_names: list<item: string> not null, constraint_column_usage: list<item: struct<fk_catalog: string, fk_db_schema: string, fk_table: string not null, fk_column_name: string not null>>>>>>>>\n",
       "  child 0, item: struct<db_schema_name: string, db_schema_tables: list<item: struct<table_name: string not null, table_type: string not null, table_columns: list<item: struct<column_name: string not null, ordinal_position: int32, remarks: string, xdbc_data_type: int16, xdbc_type_name: string, xdbc_column_size: int32, xdbc_decimal_digits: int16, xdbc_num_prec_radix: int16, xdbc_nullable: int16, xdbc_column_def: string, xdbc_sql_data_type: int16, xdbc_datetime_sub: int16, xdbc_char_octet_length: int32, xdbc_is_nullable: string, xdbc_scope_catalog: string, xdbc_scope_schema: string, xdbc_scope_table: string, xdbc_is_autoincrement: bool, xdbc_is_generatedcolumn: bool>>, table_constraints: list<item: struct<constraint_name: string, constraint_type: string not null, constraint_column_names: list<item: string> not null, constraint_column_usage: list<item: struct<fk_catalog: string, fk_db_schema: string, fk_table: string not null, fk_column_name: string not null>>>>>>>\n",
       "      child 0, db_schema_name: string\n",
       "      child 1, db_schema_tables: list<item: struct<table_name: string not null, table_type: string not null, table_columns: list<item: struct<column_name: string not null, ordinal_position: int32, remarks: string, xdbc_data_type: int16, xdbc_type_name: string, xdbc_column_size: int32, xdbc_decimal_digits: int16, xdbc_num_prec_radix: int16, xdbc_nullable: int16, xdbc_column_def: string, xdbc_sql_data_type: int16, xdbc_datetime_sub: int16, xdbc_char_octet_length: int32, xdbc_is_nullable: string, xdbc_scope_catalog: string, xdbc_scope_schema: string, xdbc_scope_table: string, xdbc_is_autoincrement: bool, xdbc_is_generatedcolumn: bool>>, table_constraints: list<item: struct<constraint_name: string, constraint_type: string not null, constraint_column_names: list<item: string> not null, constraint_column_usage: list<item: struct<fk_catalog: string, fk_db_schema: string, fk_table: string not null, fk_column_name: string not null>>>>>>\n",
       "          child 0, item: struct<table_name: string not null, table_type: string not null, table_columns: list<item: struct<column_name: string not null, ordinal_position: int32, remarks: string, xdbc_data_type: int16, xdbc_type_name: string, xdbc_column_size: int32, xdbc_decimal_digits: int16, xdbc_num_prec_radix: int16, xdbc_nullable: int16, xdbc_column_def: string, xdbc_sql_data_type: int16, xdbc_datetime_sub: int16, xdbc_char_octet_length: int32, xdbc_is_nullable: string, xdbc_scope_catalog: string, xdbc_scope_schema: string, xdbc_scope_table: string, xdbc_is_autoincrement: bool, xdbc_is_generatedcolumn: bool>>, table_constraints: list<item: struct<constraint_name: string, constraint_type: string not null, constraint_column_names: list<item: string> not null, constraint_column_usage: list<item: struct<fk_catalog: string, fk_db_schema: string, fk_table: string not null, fk_column_name: string not null>>>>>\n",
       "              child 0, table_name: string not null\n",
       "              child 1, table_type: string not null\n",
       "              child 2, table_columns: list<item: struct<column_name: string not null, ordinal_position: int32, remarks: string, xdbc_data_type: int16, xdbc_type_name: string, xdbc_column_size: int32, xdbc_decimal_digits: int16, xdbc_num_prec_radix: int16, xdbc_nullable: int16, xdbc_column_def: string, xdbc_sql_data_type: int16, xdbc_datetime_sub: int16, xdbc_char_octet_length: int32, xdbc_is_nullable: string, xdbc_scope_catalog: string, xdbc_scope_schema: string, xdbc_scope_table: string, xdbc_is_autoincrement: bool, xdbc_is_generatedcolumn: bool>>\n",
       "                  child 0, item: struct<column_name: string not null, ordinal_position: int32, remarks: string, xdbc_data_type: int16, xdbc_type_name: string, xdbc_column_size: int32, xdbc_decimal_digits: int16, xdbc_num_prec_radix: int16, xdbc_nullable: int16, xdbc_column_def: string, xdbc_sql_data_type: int16, xdbc_datetime_sub: int16, xdbc_char_octet_length: int32, xdbc_is_nullable: string, xdbc_scope_catalog: string, xdbc_scope_schema: string, xdbc_scope_table: string, xdbc_is_autoincrement: bool, xdbc_is_generatedcolumn: bool>\n",
       "                      child 0, column_name: string not null\n",
       "                      child 1, ordinal_position: int32\n",
       "                      child 2, remarks: string\n",
       "                      child 3, xdbc_data_type: int16\n",
       "                      child 4, xdbc_type_name: string\n",
       "                      child 5, xdbc_column_size: int32\n",
       "                      child 6, xdbc_decimal_digits: int16\n",
       "                      child 7, xdbc_num_prec_radix: int16\n",
       "                      child 8, xdbc_nullable: int16\n",
       "                      child 9, xdbc_column_def: string\n",
       "                      child 10, xdbc_sql_data_type: int16\n",
       "                      child 11, xdbc_datetime_sub: int16\n",
       "                      child 12, xdbc_char_octet_length: int32\n",
       "                      child 13, xdbc_is_nullable: string\n",
       "                      child 14, xdbc_scope_catalog: string\n",
       "                      child 15, xdbc_scope_schema: string\n",
       "                      child 16, xdbc_scope_table: string\n",
       "                      child 17, xdbc_is_autoincrement: bool\n",
       "                      child 18, xdbc_is_generatedcolumn: bool\n",
       "              child 3, table_constraints: list<item: struct<constraint_name: string, constraint_type: string not null, constraint_column_names: list<item: string> not null, constraint_column_usage: list<item: struct<fk_catalog: string, fk_db_schema: string, fk_table: string not null, fk_column_name: string not null>>>>\n",
       "                  child 0, item: struct<constraint_name: string, constraint_type: string not null, constraint_column_names: list<item: string> not null, constraint_column_usage: list<item: struct<fk_catalog: string, fk_db_schema: string, fk_table: string not null, fk_column_name: string not null>>>\n",
       "                      child 0, constraint_name: string\n",
       "                      child 1, constraint_type: string not null\n",
       "                      child 2, constraint_column_names: list<item: string> not null\n",
       "                          child 0, item: string\n",
       "                      child 3, constraint_column_usage: list<item: struct<fk_catalog: string, fk_db_schema: string, fk_table: string not null, fk_column_name: string not null>>\n",
       "                          child 0, item: struct<fk_catalog: string, fk_db_schema: string, fk_table: string not null, fk_column_name: string not null>\n",
       "                              child 0, fk_catalog: string\n",
       "                              child 1, fk_db_schema: string\n",
       "                              child 2, fk_table: string not null\n",
       "                              child 3, fk_column_name: string not null\n",
       "----\n",
       "catalog_name: [[\"main\"]]\n",
       "catalog_db_schemas: [[    -- is_valid: all not null\n",
       "    -- child 0 type: string\n",
       "[null]\n",
       "    -- child 1 type: list<item: struct<table_name: string not null, table_type: string not null, table_columns: list<item: struct<column_name: string not null, ordinal_position: int32, remarks: string, xdbc_data_type: int16, xdbc_type_name: string, xdbc_column_size: int32, xdbc_decimal_digits: int16, xdbc_num_prec_radix: int16, xdbc_nullable: int16, xdbc_column_def: string, xdbc_sql_data_type: int16, xdbc_datetime_sub: int16, xdbc_char_octet_length: int32, xdbc_is_nullable: string, xdbc_scope_catalog: string, xdbc_scope_schema: string, xdbc_scope_table: string, xdbc_is_autoincrement: bool, xdbc_is_generatedcolumn: bool>>, table_constraints: list<item: struct<constraint_name: string, constraint_type: string not null, constraint_column_names: list<item: string> not null, constraint_column_usage: list<item: struct<fk_catalog: string, fk_db_schema: string, fk_table: string not null, fk_column_name: string not null>>>>>>\n",
       "[        -- is_valid: all not null\n",
       "        -- child 0 type: string\n",
       "[\"people\"]\n",
       "        -- child 1 type: string\n",
       "[\"table\"]\n",
       "        -- child 2 type: list<item: struct<column_name: string not null, ordinal_position: int32, remarks: string, xdbc_data_type: int16, xdbc_type_name: string, xdbc_column_size: int32, xdbc_decimal_digits: int16, xdbc_num_prec_radix: int16, xdbc_nullable: int16, xdbc_column_def: string, xdbc_sql_data_type: int16, xdbc_datetime_sub: int16, xdbc_char_octet_length: int32, xdbc_is_nullable: string, xdbc_scope_catalog: string, xdbc_scope_schema: string, xdbc_scope_table: string, xdbc_is_autoincrement: bool, xdbc_is_generatedcolumn: bool>>\n",
       "[            -- is_valid: all not null\n",
       "            -- child 0 type: string\n",
       "[\"name\",\"age\"]\n",
       "            -- child 1 type: int32\n",
       "[1,2]\n",
       "            -- child 2 type: string\n",
       "[null,null]\n",
       "            -- child 3 type: int16\n",
       "[null,null]\n",
       "            -- child 4 type: string\n",
       "[\"\",\"\"]\n",
       "            -- child 5 type: int32\n",
       "[null,null]\n",
       "            -- child 6 type: int16\n",
       "[null,null]\n",
       "            -- child 7 type: int16\n",
       "[null,null]\n",
       "            -- child 8 type: int16\n",
       "[1,1]\n",
       "            -- child 9 type: string\n",
       "[null,null]\n",
       "            -- child 10 type: int16\n",
       "[null,null]\n",
       "            -- child 11 type: int16\n",
       "[null,null]\n",
       "            -- child 12 type: int32\n",
       "[null,null]\n",
       "            -- child 13 type: string\n",
       "[\"YES\",\"YES\"]\n",
       "            -- child 14 type: string\n",
       "[null,null]\n",
       "            -- child 15 type: string\n",
       "[null,null]\n",
       "            -- child 16 type: string\n",
       "[null,null]\n",
       "            -- child 17 type: bool\n",
       "[null,null]\n",
       "            -- child 18 type: bool\n",
       "[null,null]]\n",
       "        -- child 3 type: list<item: struct<constraint_name: string, constraint_type: string not null, constraint_column_names: list<item: string> not null, constraint_column_usage: list<item: struct<fk_catalog: string, fk_db_schema: string, fk_table: string not null, fk_column_name: string not null>>>>\n",
       "[            -- is_valid: all not null\n",
       "            -- child 0 type: string\n",
       "[]\n",
       "            -- child 1 type: string\n",
       "[]\n",
       "            -- child 2 type: list<item: string>\n",
       "[]\n",
       "            -- child 3 type: list<item: struct<fk_catalog: string, fk_db_schema: string, fk_table: string not null, fk_column_name: string not null>>\n",
       "[]]]]]"
      ]
     },
     "execution_count": 6,
     "metadata": {},
     "output_type": "execute_result"
    }
   ],
   "source": [
    "with adbc_driver_sqlite.dbapi.connect(DATABASE_URI) as connection:\n",
    "    objects = connection.adbc_get_objects()\n",
    "\n",
    "objects.read_all()"
   ]
  }
 ],
 "metadata": {
  "kernelspec": {
   "display_name": "Python 3 (ipykernel)",
   "language": "python",
   "name": "python3"
  },
  "language_info": {
   "codemirror_mode": {
    "name": "ipython",
    "version": 3
   },
   "file_extension": ".py",
   "mimetype": "text/x-python",
   "name": "python",
   "nbconvert_exporter": "python",
   "pygments_lexer": "ipython3",
   "version": "3.11.4"
  }
 },
 "nbformat": 4,
 "nbformat_minor": 5
}
